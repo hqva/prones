{
 "cells": [
  {
   "cell_type": "code",
   "execution_count": null,
   "metadata": {
    "collapsed": true
   },
   "outputs": [],
   "source": [
    "import numpy as np\n",
    "import pandas as pd\n",
    "import os\n",
    "import matplotlib.pyplot as plt\n",
    "%matplotlib inline"
   ]
  },
  {
   "cell_type": "code",
   "execution_count": 240,
   "metadata": {
    "collapsed": false,
    "scrolled": true
   },
   "outputs": [],
   "source": [
    "prev_outs = os.listdir('toydata/output')"
   ]
  },
  {
   "cell_type": "code",
   "execution_count": 241,
   "metadata": {
    "collapsed": false,
    "scrolled": true
   },
   "outputs": [
    {
     "name": "stdout",
     "output_type": "stream",
     "text": [
      "total_time (s) [480]: \n",
      "sampling_freq (Hz) [60]: \n",
      "num_cells [16]: \n",
      "custom_name [toydata]: \n",
      "Total steps to generate: 28800\n",
      "Name of file: /output/toydata1.csv\n"
     ]
    }
   ],
   "source": [
    "total_time = float(input('total_time (s) [480]: ') or 480)\n",
    "sampling_freq = float(input('sampling_freq (Hz) [60]: ') or 60)\n",
    "num_cells = int(input('num_cells [16]: ') or 16)\n",
    "custom_name = str(input('custom_name [toydata]: '))\n",
    "if custom_name ==\"\" :\n",
    "    out_name = \"toydata\" + str(len(prev_outs))\n",
    "else:\n",
    "    if custom_name + \".csv\" in prev_outs:\n",
    "        out_name = custom_name + str(prev_outs.count(custom_name + \".csv\") + 1)\n",
    "    else:\n",
    "        out_name = custom_name\n",
    "total_steps = int(round(total_time * sampling_freq))\n",
    "print(\"Total steps to generate: %d\" %total_steps)\n",
    "print(\"Name of file: /output/%s.csv\" %out_name)"
   ]
  },
  {
   "cell_type": "code",
   "execution_count": 242,
   "metadata": {
    "collapsed": false
   },
   "outputs": [],
   "source": [
    "# max_loc_s = 0.005 #m/s\n",
    "# max_deg_v = 0.02*np.pi #rad/s\n",
    "\n",
    "def move_the_rat(max_loc_s,max_deg_v,total_steps,sampling_freq):\n",
    "    head_dir = 2*np.pi*np.random.rand() #initialise in a random direction\n",
    "    loc = 1*np.random.rand(2) #\n",
    "    move_rat = np.zeros([3,total_steps])\n",
    "    for step in range(total_steps): #for each step\n",
    "        if step % sampling_freq == 0: #every second\n",
    "            deg_v = (np.random.rand() - 0.5) * max_deg_v #update deg_v\n",
    "            loc_s = np.random.rand() * max_loc_s #update loc_s\n",
    "        new_head_dir = head_dir + deg_v\n",
    "        if (loc[0] < 0) or (loc[1] < 0) or (loc[0] >1) or (loc[1]>1):\n",
    "            new_head_dir = new_head_dir + np.pi \n",
    "        if new_head_dir > 2*np.pi:\n",
    "            new_head_dir = new_head_dir - 2*np.pi\n",
    "        if new_head_dir < 0:\n",
    "            new_head_dir = 2*np.pi + new_head_dir\n",
    "        head_dir = new_head_dir\n",
    "        new_loc = loc + (loc_s*np.sin(head_dir),loc_s*np.cos(head_dir))\n",
    "        move_rat[0,step] = new_head_dir\n",
    "        move_rat[1,step] = new_loc[0]\n",
    "        move_rat[2,step] = new_loc[1]\n",
    "        loc = new_loc\n",
    "    return move_rat\n",
    "\n",
    "move_rat = move_the_rat(0.005, (0.02*np.pi),total_steps,sampling_freq)"
   ]
  },
  {
   "cell_type": "code",
   "execution_count": 243,
   "metadata": {
    "collapsed": false
   },
   "outputs": [
    {
     "data": {
      "image/png": "[encoded data removed]",
      "text/plain": [
       "<matplotlib.figure.Figure at 0x1989edfbe10>"
      ]
     },
     "metadata": {},
     "output_type": "display_data"
    }
   ],
   "source": [
    "plt.figure()\n",
    "plt.scatter(move_rat[1],move_rat[2],)\n",
    "plt.axis([0, 1, 0, 1])\n",
    "plt.show()"
   ]
  },
  {
   "cell_type": "code",
   "execution_count": 244,
   "metadata": {
    "collapsed": false
   },
   "outputs": [],
   "source": [
    "num_place_cells = np.random.randint(0,num_cells)\n",
    "num_headdir_cells = np.random.randint(0,(num_cells-num_place_cells))\n",
    "#num_pl_hd_cells = np.random.randint(0,(num_cells-(num_headdir_cells+num_place_cells)))\n",
    "num_rand_cells = num_cells - (num_place_cells+num_headdir_cells)#+num_pl_hd_cells)"
   ]
  },
  {
   "cell_type": "code",
   "execution_count": 245,
   "metadata": {
    "collapsed": false
   },
   "outputs": [],
   "source": [
    "def place_cell(num_c,move_rat):\n",
    "    cell_out=np.zeros([num_c,move_rat.shape[1]])\n",
    "    for j in range(num_c):\n",
    "        focus = np.random.rand(2)\n",
    "        for i in range(move_rat.shape[1]):\n",
    "            rat_now = move_rat[1:,i]\n",
    "            dist = np.linalg.norm(rat_now - focus)\n",
    "            cell_out[j,i] = int(round(dist*np.random.chisquare(2)))\n",
    "    return cell_out\n",
    "def head_cell(num_c,move_rat):\n",
    "    cell_out=np.zeros([num_c,move_rat.shape[1]])\n",
    "    for j in range(num_c):\n",
    "        focus = 2*np.pi*np.random.rand()\n",
    "        for i in range(move_rat.shape[1]):\n",
    "            rat_now = move_rat[0,i]\n",
    "            dist = np.linalg.norm(rat_now - focus)\n",
    "            cell_out[j,i] = int(round(dist*np.random.chisquare(2)))\n",
    "    return cell_out\n",
    "def rand_cell(num_c,move_rat):\n",
    "    cell_out=np.zeros([num_c,move_rat.shape[1]])\n",
    "    for j in range(num_c):\n",
    "        for i in range(move_rat.shape[1]):\n",
    "            cell_out[j,i] = np.random.randint(0,10)\n",
    "    return cell_out"
   ]
  },
  {
   "cell_type": "code",
   "execution_count": 246,
   "metadata": {
    "collapsed": false
   },
   "outputs": [],
   "source": [
    "head_out = head_cell(num_headdir_cells,move_rat)\n",
    "place_out = place_cell(num_place_cells,move_rat)\n",
    "rand_out = rand_cell(num_rand_cells,move_rat)"
   ]
  },
  {
   "cell_type": "code",
   "execution_count": 247,
   "metadata": {
    "collapsed": false
   },
   "outputs": [],
   "source": [
    "the_output = np.concatenate((move_rat,head_out,place_out,rand_out),axis=0)"
   ]
  },
  {
   "cell_type": "code",
   "execution_count": 251,
   "metadata": {
    "collapsed": false
   },
   "outputs": [],
   "source": [
    "#%%!np.savetxt(out_name,the_output,delimiter=\",\")\n",
    "output_df = pd.DataFrame(the_output)"
   ]
  },
  {
   "cell_type": "code",
   "execution_count": 256,
   "metadata": {
    "collapsed": true
   },
   "outputs": [],
   "source": [
    "output_df.to_csv(\"toydata/output/%s.csv\"%(out_name))"
   ]
  },
  {
   "cell_type": "code",
   "execution_count": 255,
   "metadata": {
    "collapsed": false
   },
   "outputs": [
    {
     "data": {
      "text/plain": [
       "'toydata1'"
      ]
     },
     "execution_count": 255,
     "metadata": {},
     "output_type": "execute_result"
    }
   ],
   "source": [
    "out_name"
   ]
  },
  {
   "cell_type": "code",
   "execution_count": null,
   "metadata": {
    "collapsed": true
   },
   "outputs": [],
   "source": [
    ""
   ]
  }
 ],
 "metadata": {
  "kernelspec": {
   "display_name": "Python 3",
   "language": "python",
   "name": "python3"
  },
  "language_info": {
   "codemirror_mode": {
    "name": "ipython",
    "version": 3.0
   },
   "file_extension": ".py",
   "mimetype": "text/x-python",
   "name": "python",
   "nbconvert_exporter": "python",
   "pygments_lexer": "ipython3",
   "version": "3.6.0"
  }
 },
 "nbformat": 4,
 "nbformat_minor": 0
}