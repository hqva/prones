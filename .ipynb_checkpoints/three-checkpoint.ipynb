{
 "cells": [
  {
   "cell_type": "code",
   "execution_count": 1,
   "metadata": {
    "collapsed": false
   },
   "outputs": [],
   "source": [
    "import numpy as np\n",
    "import pandas as pd\n",
    "import tensorflow as tf\n",
    "import tensorlayer as tl\n",
    "import os\n",
    "import matplotlib.pyplot as plt"
   ]
  },
  {
   "cell_type": "code",
   "execution_count": 2,
   "metadata": {
    "collapsed": false
   },
   "outputs": [
    {
     "name": "stdout",
     "output_type": "stream",
     "text": [
      "Using matplotlib backend: Qt5Agg\n",
      "Populating the interactive namespace from numpy and matplotlib\n"
     ]
    }
   ],
   "source": [
    "%pylab\n",
    "%matplotlib inline"
   ]
  },
  {
   "cell_type": "code",
   "execution_count": 3,
   "metadata": {
    "collapsed": false
   },
   "outputs": [],
   "source": [
    "input_data = pd.read_csv('data/comma_LSTM_data_R867_20170915_T4_clu1_Tr1.txt')\n",
    "input_data.columns=['x','y','dir','c']"
   ]
  },
  {
   "cell_type": "code",
   "execution_count": 4,
   "metadata": {
    "collapsed": false,
    "scrolled": false
   },
   "outputs": [
    {
     "data": {
      "image/png": "[encoded data removed]",
      "text/plain": [
       "<matplotlib.figure.Figure at 0x1e090a78be0>"
      ]
     },
     "metadata": {},
     "output_type": "display_data"
    }
   ],
   "source": [
    "plt.figure(figsize=(10,3))\n",
    "plt.scatter(input_data['dir'],input_data['c'],marker=\"|\",alpha=0.25)\n",
    "plt.show()"
   ]
  },
  {
   "cell_type": "code",
   "execution_count": 5,
   "metadata": {
    "collapsed": false
   },
   "outputs": [],
   "source": [
    "X_all = np.array([input_data['x'],input_data['y'],input_data['dir']]).T\n",
    "Y_all = np.array([input_data['c']])"
   ]
  },
  {
   "cell_type": "code",
   "execution_count": 6,
   "metadata": {
    "collapsed": false
   },
   "outputs": [],
   "source": [
    "in_n = len(input_data)\n",
    "X_train = X_all[:int(4*in_n/6)]\n",
    "X_val = X_all[int(4*in_n/6):int(5*in_n/6)]\n",
    "X_test = X_all[int(5*in_n/6):]\n",
    "Y_train = Y_all[:int(4*in_n/6)]\n",
    "Y_val = Y_all[int(4*in_n/6):int(5*in_n/6)]\n",
    "Y_test = Y_all[int(5*in_n/6):]"
   ]
  },
  {
   "cell_type": "code",
   "execution_count": 71,
   "metadata": {
    "collapsed": true
   },
   "outputs": [],
   "source": [
    "learning_rate = 0.1\n",
    "training_steps = 300\n",
    "display_step = 1\n",
    "bs = X_train.shape[0]\n",
    "reg_const = 0.001\n",
    "rnn_hidden = 100\n",
    "dropout = 0.5\n",
    "seq_len = 1000"
   ]
  },
  {
   "cell_type": "code",
   "execution_count": 72,
   "metadata": {
    "collapsed": false
   },
   "outputs": [],
   "source": [
    "sl = np.empty(bs)\n",
    "sl.fill(seq_len)"
   ]
  },
  {
   "cell_type": "code",
   "execution_count": 73,
   "metadata": {
    "collapsed": false,
    "scrolled": true
   },
   "outputs": [],
   "source": [
    "tf.reset_default_graph()\n",
    "with tf.name_scope('input'):\n",
    "    X=tf.placeholder(tf.float32,[None,seq_len,X_train.shape[1]],name=\"xydir\")\n",
    "    Y=tf.placeholder(tf.float32,[None,Y_train.shape[1]],name=\"neuron_output\")\n",
    "    learning_rate = tf.placeholder(tf.float32,name='learning_rate')\n",
    "    reg_const = tf.placeholder(tf.float32,name='reg_const')\n",
    "    batch_size=tf.placeholder(tf.int32,[],name=\"batch_size\")\n",
    "    #dropout = tf.placeholder(tf.float32)\n",
    "with tf.name_scope('LSTM_cell'):\n",
    "    cell = tf.contrib.rnn.BasicLSTMCell(\n",
    "                                        rnn_hidden,\n",
    "                                        forget_bias=1.0,\n",
    "                                        state_is_tuple=True)\n",
    "    #dcell = tf.contrib.rnn.DropoutWrapper(cell,output_keep_prob=dropout)\n",
    "    init_state = cell.zero_state(batch_size,dtype=tf.float32)\n",
    "    outputs,final_state = tf.nn.dynamic_rnn(\n",
    "                                            cell,\n",
    "                                            X,\n",
    "                                            initial_state=init_state)\n",
    "                                            #time_major=False)"
   ]
  },
  {
   "cell_type": "code",
   "execution_count": 74,
   "metadata": {
    "collapsed": false
   },
   "outputs": [],
   "source": [
    "with tf.name_scope('FC_weights'):\n",
    "    fV = tf.Variable(tf.random_uniform([rnn_hidden,Y_train.shape[1]]),name=\"fV\")\n",
    "    fV_reg = tf.reduce_sum(tf.square(fV))\n",
    "    tf.summary.histogram('fV',fV)\n",
    "with tf.name_scope('FC_biases'):\n",
    "    fb = tf.Variable(tf.zeros([Y_train.shape[1]]),name=\"fb\")"
   ]
  },
  {
   "cell_type": "code",
   "execution_count": 75,
   "metadata": {
    "collapsed": false
   },
   "outputs": [],
   "source": [
    "with tf.name_scope('l_regress'):\n",
    "    h_in = outputs[1]\n",
    "    u = tf.nn.relu(tf.add(tf.matmul(h_in,fV),fb))\n",
    "with tf.name_scope('lossandpred'):\n",
    "    pred = tf.nn.softmax(u)\n",
    "    loss = tf.reduce_mean(\n",
    "        tf.nn.softmax_cross_entropy_with_logits(labels=Y,logits=u)) \\\n",
    "            + tf.multiply(reg_const,fV_reg)\n",
    "    tf.summary.scalar('loss',loss)\n",
    "    tf.summary.histogram('preds',pred)\n",
    "with tf.name_scope('train'):\n",
    "    optim = tf.train.RMSPropOptimizer(learning_rate).minimize(loss)\n",
    "with tf.name_scope('accuracy'):\n",
    "    correct_prediction = tf.equal(tf.argmax(pred,1),tf.argmax(Y,1))\n",
    "    accuracy = tf.reduce_mean(tf.cast(correct_prediction,tf.float32))\n",
    "    number_of_zeros = tf.reduce_mean(tf.cast(tf.equal(tf.argmax(pred,1),0),tf.float32))\n",
    "    tf.summary.scalar('accuracy',accuracy)\n",
    "    tf.summary.scalar('number_of_zeros',number_of_zeros) "
   ]
  },
  {
   "cell_type": "code",
   "execution_count": 76,
   "metadata": {
    "collapsed": true
   },
   "outputs": [],
   "source": [
    "run=0"
   ]
  },
  {
   "cell_type": "code",
   "execution_count": 84,
   "metadata": {
    "collapsed": false
   },
   "outputs": [
    {
     "ename": "ValueError",
     "evalue": "Cannot feed value of shape (16033, 3) for Tensor 'input/xydir:0', which has shape '(?, 1000, 3)'",
     "output_type": "error",
     "traceback": [
      "\u001b[0;31m---------------------------------------------------------------------------\u001b[0m",
      "\u001b[0;31mValueError\u001b[0m                                Traceback (most recent call last)",
      "\u001b[0;32m<ipython-input-84-26e37731b9ef>\u001b[0m in \u001b[0;36m<module>\u001b[0;34m()\u001b[0m\n\u001b[1;32m     16\u001b[0m                                       \u001b[0mlearning_rate\u001b[0m\u001b[1;33m:\u001b[0m\u001b[0mlrate\u001b[0m\u001b[1;33m,\u001b[0m\u001b[1;33m\u001b[0m\u001b[0m\n\u001b[1;32m     17\u001b[0m                                       \u001b[0mreg_const\u001b[0m\u001b[1;33m:\u001b[0m\u001b[0mregc\u001b[0m\u001b[1;33m,\u001b[0m\u001b[1;33m\u001b[0m\u001b[0m\n\u001b[0;32m---> 18\u001b[0;31m                                       batch_size:bs})\n\u001b[0m\u001b[1;32m     19\u001b[0m             summary = sess.run(merged, feed_dict={X:X_train[:bs],\n\u001b[1;32m     20\u001b[0m                                                       \u001b[0mY\u001b[0m\u001b[1;33m:\u001b[0m\u001b[0mY_train\u001b[0m\u001b[1;33m[\u001b[0m\u001b[1;33m:\u001b[0m\u001b[0mbs\u001b[0m\u001b[1;33m]\u001b[0m\u001b[1;33m,\u001b[0m\u001b[1;33m\u001b[0m\u001b[0m\n",
      "\u001b[0;32mC:\\Users\\hqv\\Anaconda3\\lib\\site-packages\\tensorflow\\python\\client\\session.py\u001b[0m in \u001b[0;36mrun\u001b[0;34m(self, fetches, feed_dict, options, run_metadata)\u001b[0m\n\u001b[1;32m    893\u001b[0m     \u001b[1;32mtry\u001b[0m\u001b[1;33m:\u001b[0m\u001b[1;33m\u001b[0m\u001b[0m\n\u001b[1;32m    894\u001b[0m       result = self._run(None, fetches, feed_dict, options_ptr,\n\u001b[0;32m--> 895\u001b[0;31m                          run_metadata_ptr)\n\u001b[0m\u001b[1;32m    896\u001b[0m       \u001b[1;32mif\u001b[0m \u001b[0mrun_metadata\u001b[0m\u001b[1;33m:\u001b[0m\u001b[1;33m\u001b[0m\u001b[0m\n\u001b[1;32m    897\u001b[0m         \u001b[0mproto_data\u001b[0m \u001b[1;33m=\u001b[0m \u001b[0mtf_session\u001b[0m\u001b[1;33m.\u001b[0m\u001b[0mTF_GetBuffer\u001b[0m\u001b[1;33m(\u001b[0m\u001b[0mrun_metadata_ptr\u001b[0m\u001b[1;33m)\u001b[0m\u001b[1;33m\u001b[0m\u001b[0m\n",
      "\u001b[0;32mC:\\Users\\hqv\\Anaconda3\\lib\\site-packages\\tensorflow\\python\\client\\session.py\u001b[0m in \u001b[0;36m_run\u001b[0;34m(self, handle, fetches, feed_dict, options, run_metadata)\u001b[0m\n\u001b[1;32m   1098\u001b[0m                 \u001b[1;34m'Cannot feed value of shape %r for Tensor %r, '\u001b[0m\u001b[1;33m\u001b[0m\u001b[0m\n\u001b[1;32m   1099\u001b[0m                 \u001b[1;34m'which has shape %r'\u001b[0m\u001b[1;33m\u001b[0m\u001b[0m\n\u001b[0;32m-> 1100\u001b[0;31m                 % (np_val.shape, subfeed_t.name, str(subfeed_t.get_shape())))\n\u001b[0m\u001b[1;32m   1101\u001b[0m           \u001b[1;32mif\u001b[0m \u001b[1;32mnot\u001b[0m \u001b[0mself\u001b[0m\u001b[1;33m.\u001b[0m\u001b[0mgraph\u001b[0m\u001b[1;33m.\u001b[0m\u001b[0mis_feedable\u001b[0m\u001b[1;33m(\u001b[0m\u001b[0msubfeed_t\u001b[0m\u001b[1;33m)\u001b[0m\u001b[1;33m:\u001b[0m\u001b[1;33m\u001b[0m\u001b[0m\n\u001b[1;32m   1102\u001b[0m             \u001b[1;32mraise\u001b[0m \u001b[0mValueError\u001b[0m\u001b[1;33m(\u001b[0m\u001b[1;34m'Tensor %s may not be fed.'\u001b[0m \u001b[1;33m%\u001b[0m \u001b[0msubfeed_t\u001b[0m\u001b[1;33m)\u001b[0m\u001b[1;33m\u001b[0m\u001b[0m\n",
      "\u001b[0;31mValueError\u001b[0m: Cannot feed value of shape (16033, 3) for Tensor 'input/xydir:0', which has shape '(?, 1000, 3)'"
     ]
    }
   ],
   "source": [
    "init = tf.global_variables_initializer()\n",
    "run +=1\n",
    "lrate = 0.01#[0.1,0.05,0.01,0.005,0.001,0.0005] \n",
    "regc = 1#[100,10,1.0,0.1,0.01,0.001,0.0001,0]\n",
    "with tf.Session() as sess:\n",
    "    train_writer = tf.summary.FileWriter('tb/lstm_1/train/l%.4f.r%.4f.run%d'%(lrate,regc,run), sess.graph)\n",
    "    val_writer = tf.summary.FileWriter('tb/lstm_1/val/l%.4f.r%.4f.run%d'%(lrate,regc,run), sess.graph)\n",
    "    sess.run(init)\n",
    "    merged = tf.summary.merge_all()\n",
    "    steps_per_epoch = int(X_train.shape[0]/bs)\n",
    "    num_epochs = int(training_steps/steps_per_epoch)\n",
    "    for epoch in range(num_epochs):\n",
    "        for step in range(steps_per_epoch):\n",
    "            sess.run(optim,feed_dict={X:X_train,\n",
    "                                      Y:Y_train,\n",
    "                                      learning_rate:lrate,\n",
    "                                      reg_const:regc,\n",
    "                                      batch_size:bs})\n",
    "            summary = sess.run(merged, feed_dict={X:X_train[:bs],\n",
    "                                                      Y:Y_train[:bs],\n",
    "                                                      batch_size:bs,\n",
    "                                                      reg_const:regc})\n",
    "            train_writer.add_summary(summary,total_step)\n",
    "            \n"
   ]
  },
  {
   "cell_type": "code",
   "execution_count": null,
   "metadata": {
    "collapsed": true
   },
   "outputs": [],
   "source": []
  }
 ],
 "metadata": {
  "kernelspec": {
   "display_name": "Python 3",
   "language": "python",
   "name": "python3"
  },
  "language_info": {
   "codemirror_mode": {
    "name": "ipython",
    "version": 3
   },
   "file_extension": ".py",
   "mimetype": "text/x-python",
   "name": "python",
   "nbconvert_exporter": "python",
   "pygments_lexer": "ipython3",
   "version": "3.6.0"
  }
 },
 "nbformat": 4,
 "nbformat_minor": 0
}
